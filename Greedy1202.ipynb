{
  "nbformat": 4,
  "nbformat_minor": 0,
  "metadata": {
    "colab": {
      "name": "Greedy1202.ipynb",
      "provenance": [],
      "authorship_tag": "ABX9TyPbhZ0ZAIQWU3pGA18oVinC",
      "include_colab_link": true
    },
    "kernelspec": {
      "name": "python3",
      "display_name": "Python 3"
    }
  },
  "cells": [
    {
      "cell_type": "markdown",
      "metadata": {
        "id": "view-in-github",
        "colab_type": "text"
      },
      "source": [
        "<a href=\"https://colab.research.google.com/github/Lizhengl/algorizhm/blob/master/Greedy1202.ipynb\" target=\"_parent\"><img src=\"https://colab.research.google.com/assets/colab-badge.svg\" alt=\"Open In Colab\"/></a>"
      ]
    },
    {
      "cell_type": "code",
      "metadata": {
        "colab": {
          "base_uri": "https://localhost:8080/"
        },
        "id": "GYmW7kghKPz8",
        "outputId": "3e115d10-e12d-4cf9-cf04-860b152e0c90"
      },
      "source": [
        "#貪婪法零錢\n",
        "t = [25,20,5,1]\n",
        "\n",
        "def change(t,n):\n",
        "  m = [0 for _ in range(len(t))]\n",
        "  for i, money in enumerate(t):\n",
        "    m[i] = n//money\n",
        "    n = n%money\n",
        "    #return m,n\n",
        "    print(m,n)\n",
        "\n",
        "n = int(input(\"金額\"))\n",
        "print(change(t,n))\n"
      ],
      "execution_count": 7,
      "outputs": [
        {
          "output_type": "stream",
          "text": [
            "金額51\n",
            "[2, 0, 0, 0] 1\n",
            "[2, 0, 0, 0] 1\n",
            "[2, 0, 0, 0] 1\n",
            "[2, 0, 0, 1] 0\n",
            "None\n"
          ],
          "name": "stdout"
        }
      ]
    },
    {
      "cell_type": "code",
      "metadata": {
        "colab": {
          "base_uri": "https://localhost:8080/"
        },
        "id": "68aPWqkfN4IG",
        "outputId": "e760ceb6-6943-42cf-de1b-e09f29062ac3"
      },
      "source": [
        "#動態規劃零錢\n",
        "t = [25,20,5,1]\n",
        "\n",
        "def change(t,n):\n",
        "  DP = [0]+[float(\"inf\")]*n\n",
        "  for i in range(min(t),n+1):\n",
        "    DP[i] = min(DP[i-x] for x in t if i-x>=0)+1\n",
        "  return DP[-1] if DP[-1]!=float(\"inf\") else -1\n",
        "\n",
        "n = int(input(\"金額\"))\n",
        "print(\"最小步驟\",change(t,n))\n",
        "      \n"
      ],
      "execution_count": 16,
      "outputs": [
        {
          "output_type": "stream",
          "text": [
            "金額51\n",
            "最小步驟 3\n"
          ],
          "name": "stdout"
        }
      ]
    },
    {
      "cell_type": "code",
      "metadata": {
        "colab": {
          "base_uri": "https://localhost:8080/"
        },
        "id": "p6uJ-cUbWFM9",
        "outputId": "e64eff0a-7423-427a-b4c8-2878f3072679"
      },
      "source": [
        "#貪婪法背包\n",
        "\n",
        "t = [(517000,),(35000,1),(60000,4),(9000,3),(20000,2)]\n",
        "v = 0\n",
        "b = 10\n",
        "def stollen(t,v,b):\n",
        "  t.sort(reverse=True)\n",
        "  m = [0 for i in range(len(t))]\n",
        "  for i, (money,weight) in enumerate(t):\n",
        "    if b>=weight:\n",
        "      m[i]=1\n",
        "      v+=money\n",
        "      b-=weight\n",
        "    print(m,v)\n",
        "\n",
        "print(stollen(t,v,b))"
      ],
      "execution_count": 40,
      "outputs": [
        {
          "output_type": "stream",
          "text": [
            "[1, 0, 0, 0, 0] 60000\n",
            "[1, 1, 0, 0, 0] 95000\n",
            "[1, 1, 1, 0, 0] 115000\n",
            "[1, 1, 1, 0, 0] 115000\n",
            "[1, 1, 1, 0, 1] 124000\n",
            "None\n"
          ],
          "name": "stdout"
        }
      ]
    }
  ]
}