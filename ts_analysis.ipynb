{
  "nbformat": 4,
  "nbformat_minor": 0,
  "metadata": {
    "colab": {
      "name": "ts_analysis.ipynb",
      "provenance": [],
      "collapsed_sections": [],
      "authorship_tag": "ABX9TyP4+oH3QXmucuG6FHb+7KgH",
      "include_colab_link": true
    },
    "kernelspec": {
      "name": "python3",
      "display_name": "Python 3"
    }
  },
  "cells": [
    {
      "cell_type": "markdown",
      "metadata": {
        "id": "view-in-github",
        "colab_type": "text"
      },
      "source": [
        "<a href=\"https://colab.research.google.com/github/Lizhengl/algorizhm/blob/master/ts_analysis.ipynb\" target=\"_parent\"><img src=\"https://colab.research.google.com/assets/colab-badge.svg\" alt=\"Open In Colab\"/></a>"
      ]
    },
    {
      "cell_type": "markdown",
      "metadata": {
        "id": "pGYWptMA5DqJ"
      },
      "source": [
        "**判斷是否為閏年**"
      ]
    },
    {
      "cell_type": "code",
      "metadata": {
        "id": "n_y7dTBP3n0F",
        "outputId": "d6721f23-0aa2-4f76-d130-78f9e7676c83",
        "colab": {
          "base_uri": "https://localhost:8080/"
        }
      },
      "source": [
        "#方法一 時間換空間\n",
        "\n",
        "y = int(input(\"輸入年份:\"))\n",
        "if (y%4) == 0: \n",
        "  if (y%100) == 0:\n",
        "    if (y%400) == 0:\n",
        "        print(\"%s年是閏年\" %y)\n",
        "    else:\n",
        "        print(\"%s年不是閏年\" %y)\n",
        "  else:\n",
        "      print(\"%s年是閏年\" %y)\n",
        "else:\n",
        "  print(\"%s年不是閏年\" %y)\n",
        "\n",
        "  \n",
        "\n"
      ],
      "execution_count": 2,
      "outputs": [
        {
          "output_type": "stream",
          "text": [
            "輸入年份:2004\n",
            "2004年是閏年\n"
          ],
          "name": "stdout"
        }
      ]
    },
    {
      "cell_type": "code",
      "metadata": {
        "id": "_EuLWwYf9qD5",
        "outputId": "3a1d6bb3-de9e-4a20-9b5c-958167efe7dd",
        "colab": {
          "base_uri": "https://localhost:8080/"
        }
      },
      "source": [
        "#方法二 空間換時間\n",
        "\n",
        "y = []\n",
        "\n",
        "for i in range(2000,2041):\n",
        "  if (i%4) == 0: \n",
        "    if (i%100) == 0:\n",
        "      if (i%400) == 0:\n",
        "          y.append(1)\n",
        "      else:\n",
        "          y.append(0)\n",
        "    else:\n",
        "        y.append(1)\n",
        "  else:\n",
        "    y.append(0)\n",
        "print(y)\n",
        "\n",
        "\n",
        "\n",
        "\n"
      ],
      "execution_count": 6,
      "outputs": [
        {
          "output_type": "stream",
          "text": [
            "[1, 0, 0, 0, 1, 0, 0, 0, 1, 0, 0, 0, 1, 0, 0, 0, 1, 0, 0, 0, 1, 0, 0, 0, 1, 0, 0, 0, 1, 0, 0, 0, 1, 0, 0, 0, 1, 0, 0, 0, 1]\n"
          ],
          "name": "stdout"
        }
      ]
    }
  ]
}