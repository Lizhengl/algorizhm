{
  "nbformat": 4,
  "nbformat_minor": 0,
  "metadata": {
    "colab": {
      "name": "Untitled6.ipynb",
      "provenance": [],
      "authorship_tag": "ABX9TyPhMgrnvUpRgE7Hg4pmP47o",
      "include_colab_link": true
    },
    "kernelspec": {
      "name": "python3",
      "display_name": "Python 3"
    }
  },
  "cells": [
    {
      "cell_type": "markdown",
      "metadata": {
        "id": "view-in-github",
        "colab_type": "text"
      },
      "source": [
        "<a href=\"https://colab.research.google.com/github/Lizhengl/algorizhm/blob/master/1230%E5%9C%96%E5%BD%A2%E8%BF%BD%E8%B9%A4.ipynb\" target=\"_parent\"><img src=\"https://colab.research.google.com/assets/colab-badge.svg\" alt=\"Open In Colab\"/></a>"
      ]
    },
    {
      "cell_type": "markdown",
      "metadata": {
        "id": "8QRMb2neoA4J"
      },
      "source": [
        "![Untitled Diagram.png](data:image/png;base64,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)"
      ]
    },
    {
      "cell_type": "code",
      "metadata": {
        "colab": {
          "base_uri": "https://localhost:8080/"
        },
        "id": "F3qYPdx4dM4p",
        "outputId": "841d571f-89ed-4843-bb52-947d7241396e"
      },
      "source": [
        "def enqueue(a, o):\r\n",
        "    a.insert(0, o)\r\n",
        "\r\n",
        "def dequeue(a):\r\n",
        "    return a.pop()\r\n",
        "\r\n",
        "g = { #  graph: 被搜尋的網路\r\n",
        "    '1': {'n':['2','4'], 'v':0}, #  n: neighbor (鄰居), v: visited (是否被訪問過)\r\n",
        "    '2': {'n':['1','3','4'], 'v':0},\r\n",
        "    '3': {'n':['2','4','5'], 'v':0},\r\n",
        "    '4': {'n':['1','2','3','5'], 'v':0},\r\n",
        "    '5': {'n':['4','5'], 'v':0}\r\n",
        "}\r\n",
        "\r\n",
        "def init(g): #  初始化、設定 visited 為 0\r\n",
        "    for i in g:\r\n",
        "        g[i]['v'] = 0\r\n",
        "\r\n",
        "def dfs(g, node): #  深度優先搜尋\r\n",
        "    if g[node]['v']!=0:           #  如果已訪問過，就不再訪問\r\n",
        "        return\r\n",
        "    print(node, '=> ', end = '')  #  否則、印出節點\r\n",
        "    g[node]['v'] = 1              #    並設定為已訪問\r\n",
        "    neighbors = g[node]['n']      # 取出鄰居節點\r\n",
        "    for n in neighbors:           #  對於每個鄰居\r\n",
        "        dfs(g, n)                 #    逐一進行訪問\r\n",
        "\r\n",
        "queue=['1'] #  BFS 用的 queue, 起始點為 1。\r\n",
        "\r\n",
        "def bfs(g, q): #  廣度優先搜尋\r\n",
        "    if len(q)==0:                 #  如果 queue 已空，則返回。\r\n",
        "        return\r\n",
        "    node = dequeue(q)             #  否則、取出 queue 的第一個節點。\r\n",
        "    if g[node]['v'] == 0:         #  如果該節點尚未拜訪過。\r\n",
        "        g[node]['v'] = 1          #    標示為已拜訪\r\n",
        "    else:                         #  否則 (已訪問過)\r\n",
        "        return                    #    不繼續搜尋，直接返回。\r\n",
        "    print(node, '=> ', end = '')  #  印出節點\r\n",
        "    neighbors = g[node]['n']      #  取出鄰居。\r\n",
        "    for n in neighbors: #  對於每個鄰居\r\n",
        "        if not g[n]['v']:         #  假如該鄰居還沒被拜訪過\r\n",
        "            enqueue(q, n)         #    就放入 queue 中\r\n",
        "    bfs(g, q)\r\n",
        "\r\n",
        "print('dfs:', end = '')\r\n",
        "init(g)\r\n",
        "dfs(g, '1') # 呼叫深度優先搜尋。\r\n",
        "print('')\r\n",
        "\r\n",
        "print('bfs:', end = '')\r\n",
        "init(g)\r\n",
        "bfs(g, queue) # 呼叫廣度優先搜尋。\r\n",
        "print('')\r\n"
      ],
      "execution_count": null,
      "outputs": [
        {
          "output_type": "stream",
          "text": [
            "dfs:1 => 2 => 3 => 4 => 5 => \n",
            "bfs:1 => 2 => 4 => 3 => \n"
          ],
          "name": "stdout"
        }
      ]
    },
    {
      "cell_type": "code",
      "metadata": {
        "colab": {
          "base_uri": "https://localhost:8080/"
        },
        "id": "5xqB0RDPmNVm",
        "outputId": "00857258-7ae0-493b-e8dc-a57e6432a090"
      },
      "source": [
        "graph = {\r\n",
        "    \"1\":[\"2\",\"4\"],\r\n",
        "    \"2\":[\"1\",\"3\",\"4\"], \r\n",
        "    \"3\":[\"2\",\"4\",\"5\"],\r\n",
        "    \"4\":[\"1\",\"2\",\"3\",\"5\"],\r\n",
        "    \"5\":[\"3\",\"4\"],    \r\n",
        "}\r\n",
        "def BFS(graph,s):\r\n",
        "    queue = []\r\n",
        "    queue.append(s)\r\n",
        "    seen = set()\r\n",
        "    seen.add(s)\r\n",
        "    while(len(queue)>0):\r\n",
        "        vertex = queue.pop(0)\r\n",
        "        nodes = graph[vertex]\r\n",
        "        for w in nodes:\r\n",
        "            if w not in seen:\r\n",
        "                queue.append(w)\r\n",
        "                seen.add(w)\r\n",
        "        print(vertex)\r\n",
        "BFS(graph,'1')"
      ],
      "execution_count": null,
      "outputs": [
        {
          "output_type": "stream",
          "text": [
            "1\n",
            "2\n",
            "4\n",
            "3\n",
            "5\n"
          ],
          "name": "stdout"
        }
      ]
    }
  ]
}