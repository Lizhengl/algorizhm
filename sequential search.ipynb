{
  "nbformat": 4,
  "nbformat_minor": 0,
  "metadata": {
    "colab": {
      "name": "Untitled2.ipynb",
      "provenance": [],
      "authorship_tag": "ABX9TyPX7NtBQ7qmQ1epjZYIjeUc",
      "include_colab_link": true
    },
    "kernelspec": {
      "name": "python3",
      "display_name": "Python 3"
    }
  },
  "cells": [
    {
      "cell_type": "markdown",
      "metadata": {
        "id": "view-in-github",
        "colab_type": "text"
      },
      "source": [
        "<a href=\"https://colab.research.google.com/github/Lizhengl/algorizhm/blob/master/sequential%20search.ipynb\" target=\"_parent\"><img src=\"https://colab.research.google.com/assets/colab-badge.svg\" alt=\"Open In Colab\"/></a>"
      ]
    },
    {
      "cell_type": "code",
      "metadata": {
        "id": "tI5A4vAlxXDO",
        "outputId": "657947a8-a39c-4f39-e41f-c32c4122ba81",
        "colab": {
          "base_uri": "https://localhost:8080/",
          "height": 34
        }
      },
      "source": [
        "data = [20,31,50,17,16,36,19,8]\n",
        "def Sequential_Search(data,key):\n",
        "  for i in data:\n",
        "    if i == key:\n",
        "      print(\"Finded\")\n",
        "      break\n",
        "  else:\n",
        "    print(\"Not finded\")\n",
        "\n",
        "Sequential_Search(data,21)\n"
      ],
      "execution_count": 16,
      "outputs": [
        {
          "output_type": "stream",
          "text": [
            "Not finded\n"
          ],
          "name": "stdout"
        }
      ]
    }
  ]
}