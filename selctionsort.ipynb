{
  "nbformat": 4,
  "nbformat_minor": 0,
  "metadata": {
    "colab": {
      "name": "selctionsort.ipynb",
      "provenance": [],
      "collapsed_sections": [],
      "include_colab_link": true
    },
    "kernelspec": {
      "name": "python3",
      "display_name": "Python 3"
    }
  },
  "cells": [
    {
      "cell_type": "markdown",
      "metadata": {
        "id": "view-in-github",
        "colab_type": "text"
      },
      "source": [
        "<a href=\"https://colab.research.google.com/github/Lizhengl/algorizhm/blob/master/selctionsort.ipynb\" target=\"_parent\"><img src=\"https://colab.research.google.com/assets/colab-badge.svg\" alt=\"Open In Colab\"/></a>"
      ]
    },
    {
      "cell_type": "markdown",
      "metadata": {
        "id": "zXTKa7MC3ged",
        "colab_type": "text"
      },
      "source": [
        ""
      ]
    },
    {
      "cell_type": "code",
      "metadata": {
        "id": "kTu3NdU13g8B",
        "colab_type": "code",
        "colab": {}
      },
      "source": [
        ""
      ],
      "execution_count": null,
      "outputs": []
    },
    {
      "cell_type": "markdown",
      "metadata": {
        "id": "W-Z0kMaDLJOp",
        "colab_type": "text"
      },
      "source": [
        "Selection sort (選擇排序)"
      ]
    },
    {
      "cell_type": "code",
      "metadata": {
        "id": "8tM3sv79HQ_V",
        "colab_type": "code",
        "colab": {
          "base_uri": "https://localhost:8080/",
          "height": 527
        },
        "outputId": "d9885c8f-a562-4bd3-8fa8-114405c8f64f"
      },
      "source": [
        "def Selction_Sort(datas):\n",
        "    for i in range(len(datas)-1):\n",
        "        min = i # 第一次選從第一個數開始,第二次從第二個數開始\n",
        "        for j in range(i+1, len(datas)):    # 用記錄的max數與其他的比較\n",
        "            if datas[j] < datas[min]:\n",
        "                min = j\n",
        "\n",
        "        datas[i], datas[min] = datas[min], datas[i]\n",
        "\n",
        "        print(datas)\n",
        "        print('---'*10)\n",
        "    return datas\n",
        "\n",
        "\n",
        "if __name__ == '__main__':\n",
        "    import random\n",
        "    a = list(range(15))\n",
        "    random.shuffle(a)\n",
        "    print(a)\n",
        "    a = Selction_Sort(a)\n",
        "    print(a)"
      ],
      "execution_count": 2,
      "outputs": [
        {
          "output_type": "stream",
          "text": [
            "[5, 14, 9, 10, 11, 4, 2, 13, 0, 12, 8, 3, 6, 7, 1]\n",
            "[0, 14, 9, 10, 11, 4, 2, 13, 5, 12, 8, 3, 6, 7, 1]\n",
            "------------------------------\n",
            "[0, 1, 9, 10, 11, 4, 2, 13, 5, 12, 8, 3, 6, 7, 14]\n",
            "------------------------------\n",
            "[0, 1, 2, 10, 11, 4, 9, 13, 5, 12, 8, 3, 6, 7, 14]\n",
            "------------------------------\n",
            "[0, 1, 2, 3, 11, 4, 9, 13, 5, 12, 8, 10, 6, 7, 14]\n",
            "------------------------------\n",
            "[0, 1, 2, 3, 4, 11, 9, 13, 5, 12, 8, 10, 6, 7, 14]\n",
            "------------------------------\n",
            "[0, 1, 2, 3, 4, 5, 9, 13, 11, 12, 8, 10, 6, 7, 14]\n",
            "------------------------------\n",
            "[0, 1, 2, 3, 4, 5, 6, 13, 11, 12, 8, 10, 9, 7, 14]\n",
            "------------------------------\n",
            "[0, 1, 2, 3, 4, 5, 6, 7, 11, 12, 8, 10, 9, 13, 14]\n",
            "------------------------------\n",
            "[0, 1, 2, 3, 4, 5, 6, 7, 8, 12, 11, 10, 9, 13, 14]\n",
            "------------------------------\n",
            "[0, 1, 2, 3, 4, 5, 6, 7, 8, 9, 11, 10, 12, 13, 14]\n",
            "------------------------------\n",
            "[0, 1, 2, 3, 4, 5, 6, 7, 8, 9, 10, 11, 12, 13, 14]\n",
            "------------------------------\n",
            "[0, 1, 2, 3, 4, 5, 6, 7, 8, 9, 10, 11, 12, 13, 14]\n",
            "------------------------------\n",
            "[0, 1, 2, 3, 4, 5, 6, 7, 8, 9, 10, 11, 12, 13, 14]\n",
            "------------------------------\n",
            "[0, 1, 2, 3, 4, 5, 6, 7, 8, 9, 10, 11, 12, 13, 14]\n",
            "------------------------------\n",
            "[0, 1, 2, 3, 4, 5, 6, 7, 8, 9, 10, 11, 12, 13, 14]\n"
          ],
          "name": "stdout"
        }
      ]
    },
    {
      "cell_type": "markdown",
      "metadata": {
        "id": "MiWPt8bALDN5",
        "colab_type": "text"
      },
      "source": [
        "請加入註解\n"
      ]
    }
  ]
}