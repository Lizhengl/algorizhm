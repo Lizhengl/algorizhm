{
  "nbformat": 4,
  "nbformat_minor": 0,
  "metadata": {
    "colab": {
      "name": "Untitled4.ipynb",
      "provenance": [],
      "authorship_tag": "ABX9TyMAQNUutbrAisnxb1WPwsLj",
      "include_colab_link": true
    },
    "kernelspec": {
      "name": "python3",
      "display_name": "Python 3"
    }
  },
  "cells": [
    {
      "cell_type": "markdown",
      "metadata": {
        "id": "view-in-github",
        "colab_type": "text"
      },
      "source": [
        "<a href=\"https://colab.research.google.com/github/Lizhengl/algorizhm/blob/master/Search%20Algorithm.ipynb\" target=\"_parent\"><img src=\"https://colab.research.google.com/assets/colab-badge.svg\" alt=\"Open In Colab\"/></a>"
      ]
    },
    {
      "cell_type": "code",
      "metadata": {
        "id": "siICsgjoBejW",
        "outputId": "0e2a2346-beb9-4d87-ae6d-e98409a33424",
        "colab": {
          "base_uri": "https://localhost:8080/"
        }
      },
      "source": [
        "import random\n",
        "\n",
        "INDEXBOX = 10\n",
        "MAXNUM = 7\n",
        "def print_data(data,max_number):\n",
        "  print(\"\\t\",end =\"\")\n",
        "  for i in range(max_number):\n",
        "    print(\"[%2d]\" %data[i],end=\"\")\n",
        "  print()\n",
        "def create_table(num,index):\n",
        "  tmp=num%INDEXBOX\n",
        "  while True:\n",
        "    if index[tmp]==-1:      \n",
        "      index[tmp]=num\n",
        "      break\n",
        "    else:\n",
        "      tmp=(tmp+1)%INDEXBOX\n",
        "\n",
        "index=[None]*INDEXBOX\n",
        "data=[None]*MAXNUM\n",
        "\n",
        "print(\"原始陣列值:\")\n",
        "for i in range(MAXNUM):\n",
        "  data[i]= random.randint(1,20)\n",
        "for i in range(INDEXBOX):\n",
        "  index[i]=-1\n",
        "print_data(data,MAXNUM)\n",
        "\n",
        "print(\"雜湊表內容:\")\n",
        "for i in range(MAXNUM):\n",
        "  create_table(data[i],index)\n",
        "  print(\"   %2d => \" %data[i],end=\"\")\n",
        "  print_data(index,INDEXBOX)\n",
        "\n",
        "print(\"完成雜湊表:\")\n",
        "print_data(index,INDEXBOX)"
      ],
      "execution_count": null,
      "outputs": [
        {
          "output_type": "stream",
          "text": [
            "原始陣列值:\n",
            "\t[ 6][16][16][ 8][ 4][ 8][13]\n",
            "雜湊表內容:\n",
            "    6 => \t[-1][-1][-1][-1][-1][-1][ 6][-1][-1][-1]\n",
            "   16 => \t[-1][-1][-1][-1][-1][-1][ 6][16][-1][-1]\n",
            "   16 => \t[-1][-1][-1][-1][-1][-1][ 6][16][16][-1]\n",
            "    8 => \t[-1][-1][-1][-1][-1][-1][ 6][16][16][ 8]\n",
            "    4 => \t[-1][-1][-1][-1][ 4][-1][ 6][16][16][ 8]\n",
            "    8 => \t[ 8][-1][-1][-1][ 4][-1][ 6][16][16][ 8]\n",
            "   13 => \t[ 8][-1][-1][13][ 4][-1][ 6][16][16][ 8]\n",
            "完成雜湊表:\n",
            "\t[ 8][-1][-1][13][ 4][-1][ 6][16][16][ 8]\n"
          ],
          "name": "stdout"
        }
      ]
    },
    {
      "cell_type": "markdown",
      "metadata": {
        "id": "X0BcivBJCCNr"
      },
      "source": [
        "再雜湊法"
      ]
    },
    {
      "cell_type": "code",
      "metadata": {
        "id": "KCCACm-aEAvo",
        "outputId": "8c03bfbe-7af7-41d5-dfbf-c0118d6ccf2c",
        "colab": {
          "base_uri": "https://localhost:8080/"
        }
      },
      "source": [
        "import random\n",
        "\n",
        "INDEXBOX = 10\n",
        "MAXNUM = 7\n",
        "def print_data(data,max_number):\n",
        "  print(\"\\t\",end =\"\")\n",
        "  for i in range(max_number):\n",
        "    print(\"[%2d]\" %data[i],end=\"\")\n",
        "  print()\n",
        "def create_table(num,index):\n",
        "  tmp=num%INDEXBOX\n",
        "  n = 0\n",
        "  while True:\n",
        "    if index[tmp]==-1:      \n",
        "      index[tmp]=num\n",
        "      break\n",
        "    else:\n",
        "      n += 1\n",
        "      tmp=(tmp+3*n)%INDEXBOX\n",
        "\n",
        "index=[None]*INDEXBOX\n",
        "data=[None]*MAXNUM\n",
        "\n",
        "print(\"原始陣列值:\")\n",
        "for i in range(MAXNUM):\n",
        "  data[i]= random.randint(1,20)\n",
        "for i in range(INDEXBOX):\n",
        "  index[i]=-1\n",
        "print_data(data,MAXNUM)\n",
        "\n",
        "print(\"雜湊表內容:\")\n",
        "for i in range(MAXNUM):\n",
        "  create_table(data[i],index)\n",
        "  print(\"   %2d => \" %data[i],end=\"\")\n",
        "  print_data(index,INDEXBOX)\n",
        "\n",
        "print(\"完成雜湊表:\")\n",
        "print_data(index,INDEXBOX)"
      ],
      "execution_count": 6,
      "outputs": [
        {
          "output_type": "stream",
          "text": [
            "原始陣列值:\n",
            "\t[ 8][13][17][ 1][18][18][20]\n",
            "雜湊表內容:\n",
            "    8 => \t[-1][-1][-1][-1][-1][-1][-1][-1][ 8][-1]\n",
            "   13 => \t[-1][-1][-1][13][-1][-1][-1][-1][ 8][-1]\n",
            "   17 => \t[-1][-1][-1][13][-1][-1][-1][17][ 8][-1]\n",
            "    1 => \t[-1][ 1][-1][13][-1][-1][-1][17][ 8][-1]\n",
            "   18 => \t[-1][ 1][-1][13][-1][-1][18][17][ 8][-1]\n",
            "   18 => \t[-1][ 1][18][13][-1][-1][18][17][ 8][-1]\n",
            "   20 => \t[20][ 1][18][13][-1][-1][18][17][ 8][-1]\n",
            "完成雜湊表:\n",
            "\t[20][ 1][18][13][-1][-1][18][17][ 8][-1]\n"
          ],
          "name": "stdout"
        }
      ]
    },
    {
      "cell_type": "code",
      "metadata": {
        "id": "ItIX8V68EPfB"
      },
      "source": [
        ""
      ],
      "execution_count": null,
      "outputs": []
    }
  ]
}