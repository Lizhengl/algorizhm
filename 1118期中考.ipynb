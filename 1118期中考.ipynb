{
  "nbformat": 4,
  "nbformat_minor": 0,
  "metadata": {
    "colab": {
      "name": "1118期中考.ipynb",
      "provenance": [],
      "collapsed_sections": [],
      "authorship_tag": "ABX9TyMuhM9IqtUg2nQrHEy9+5PJ",
      "include_colab_link": true
    },
    "kernelspec": {
      "name": "python3",
      "display_name": "Python 3"
    }
  },
  "cells": [
    {
      "cell_type": "markdown",
      "metadata": {
        "id": "view-in-github",
        "colab_type": "text"
      },
      "source": [
        "<a href=\"https://colab.research.google.com/github/Lizhengl/algorizhm/blob/master/1118%E6%9C%9F%E4%B8%AD%E8%80%83.ipynb\" target=\"_parent\"><img src=\"https://colab.research.google.com/assets/colab-badge.svg\" alt=\"Open In Colab\"/></a>"
      ]
    },
    {
      "cell_type": "code",
      "metadata": {
        "colab": {
          "base_uri": "https://localhost:8080/"
        },
        "id": "e34rv4F13Ybg",
        "outputId": "102e8ebe-ae81-46f0-e70d-17f9224b6c09"
      },
      "source": [
        "#“選擇排序法”、\"插入排序法”\n",
        "#隨機產生8個數字,分別使用兩種方法將數字做排序\n",
        "#選擇(大到小)、插入(小到大)\n",
        "#需解釋演算法設計(註解)\n",
        "import random\n",
        "\n",
        "def Select(Nums):\n",
        "  n = len(Nums)  \n",
        "  for i in range(n):\n",
        "    Max = Nums[i] #把第i個數字設為最大Max\n",
        "    for j in range(i,n):  #開始迴圈比較\n",
        "      if Nums[j] > Max: #假設第j個數比Max大\n",
        "        Max = Nums[j]  #Max就變成第j個數\n",
        "        Nums[i],Nums[j] = Nums[j],Nums[i]    #再把找好的Max數和第i個數交換位置\n",
        "    print(\"第%d次排序\"%(i+1),Nums)\n",
        "\n",
        "INTNUM=[]\n",
        "for i in range(8):\n",
        "  INTNUM.append(random.randint(0,50))  #迴圈亂數\n",
        "print(INTNUM)\n",
        "Select(INTNUM)  #執行函示亂數\n",
        "\n",
        "\n",
        "\n",
        "  "
      ],
      "execution_count": null,
      "outputs": [
        {
          "output_type": "stream",
          "text": [
            "[2, 19, 28, 16, 26, 39, 19, 5]\n",
            "第1次排序 [39, 2, 19, 16, 26, 28, 19, 5]\n",
            "第2次排序 [39, 28, 2, 16, 19, 26, 19, 5]\n",
            "第3次排序 [39, 28, 26, 2, 16, 19, 19, 5]\n",
            "第4次排序 [39, 28, 26, 19, 2, 16, 19, 5]\n",
            "第5次排序 [39, 28, 26, 19, 19, 2, 16, 5]\n",
            "第6次排序 [39, 28, 26, 19, 19, 16, 2, 5]\n",
            "第7次排序 [39, 28, 26, 19, 19, 16, 5, 2]\n",
            "第8次排序 [39, 28, 26, 19, 19, 16, 5, 2]\n"
          ],
          "name": "stdout"
        }
      ]
    },
    {
      "cell_type": "code",
      "metadata": {
        "id": "d7aXLjhwJebK",
        "colab": {
          "base_uri": "https://localhost:8080/"
        },
        "outputId": "81069257-a554-42c9-adb1-e2b913b6b797"
      },
      "source": [
        "import random\n",
        "def insertionSort(arr):\n",
        "    for i in range(len(arr)):\n",
        "        preIndex = i-1    #設索引位置\n",
        "        current = arr[i]  #要比較的數字        \n",
        "        while preIndex >= 0 and arr[preIndex] > current: #如果當前未排序的陣列裡數字比前一個大\n",
        "            arr[preIndex+1] = arr[preIndex]    \n",
        "            preIndex-=1    #比較位置持續往後推\n",
        "        arr[preIndex+1] = current  #儲存比較好的數字\n",
        "        print(\"第%d次排序\"%(i+1),arr)\n",
        "    return arr\n",
        "\n",
        "INTNUM=[]\n",
        "for i in range(8):  #產生亂數陣列\n",
        "  INTNUM.append(random.randint(0,50))\n",
        "print(INTNUM)\n",
        "insertionSort(INTNUM)  #函式執行亂數"
      ],
      "execution_count": 8,
      "outputs": [
        {
          "output_type": "stream",
          "text": [
            "[3, 21, 13, 36, 5, 40, 44, 13]\n",
            "第1次排序 [3, 21, 13, 36, 5, 40, 44, 13]\n",
            "第2次排序 [3, 21, 13, 36, 5, 40, 44, 13]\n",
            "第3次排序 [3, 13, 21, 36, 5, 40, 44, 13]\n",
            "第4次排序 [3, 13, 21, 36, 5, 40, 44, 13]\n",
            "第5次排序 [3, 5, 13, 21, 36, 40, 44, 13]\n",
            "第6次排序 [3, 5, 13, 21, 36, 40, 44, 13]\n",
            "第7次排序 [3, 5, 13, 21, 36, 40, 44, 13]\n",
            "第8次排序 [3, 5, 13, 13, 21, 36, 40, 44]\n"
          ],
          "name": "stdout"
        },
        {
          "output_type": "execute_result",
          "data": {
            "text/plain": [
              "[3, 5, 13, 13, 21, 36, 40, 44]"
            ]
          },
          "metadata": {
            "tags": []
          },
          "execution_count": 8
        }
      ]
    },
    {
      "cell_type": "code",
      "metadata": {
        "id": "vEiRBEEwPrFv"
      },
      "source": [
        ""
      ],
      "execution_count": null,
      "outputs": []
    }
  ]
}