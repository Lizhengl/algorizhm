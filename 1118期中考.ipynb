{
  "nbformat": 4,
  "nbformat_minor": 0,
  "metadata": {
    "colab": {
      "name": "1118期中考.ipynb",
      "provenance": [],
      "authorship_tag": "ABX9TyMPFGUG8uTdB+clkrpadQ/Z",
      "include_colab_link": true
    },
    "kernelspec": {
      "name": "python3",
      "display_name": "Python 3"
    }
  },
  "cells": [
    {
      "cell_type": "markdown",
      "metadata": {
        "id": "view-in-github",
        "colab_type": "text"
      },
      "source": [
        "<a href=\"https://colab.research.google.com/github/Lizhengl/algorizhm/blob/master/1118%E6%9C%9F%E4%B8%AD%E8%80%83.ipynb\" target=\"_parent\"><img src=\"https://colab.research.google.com/assets/colab-badge.svg\" alt=\"Open In Colab\"/></a>"
      ]
    },
    {
      "cell_type": "code",
      "metadata": {
        "colab": {
          "base_uri": "https://localhost:8080/"
        },
        "id": "e34rv4F13Ybg",
        "outputId": "102e8ebe-ae81-46f0-e70d-17f9224b6c09"
      },
      "source": [
        "#“選擇排序法”、\"插入排序法”\n",
        "#隨機產生8個數字,分別使用兩種方法將數字做排序\n",
        "#選擇(大到小)、插入(小到大)\n",
        "#需解釋演算法設計(註解)\n",
        "import random\n",
        "\n",
        "def Select(Nums):\n",
        "  n = len(Nums)\n",
        "  for i in range(n):\n",
        "    Max = Nums[i]\n",
        "    for j in range(i,n):\n",
        "      if Nums[j] > Max:\n",
        "        Max = Nums[j]\n",
        "        Nums[i],Nums[j] = Nums[j],Nums[i]\n",
        "    print(\"第%d次排序\"%(i+1),Nums)\n",
        "\n",
        "INTNUM=[]\n",
        "for i in range(8):\n",
        "  INTNUM.append(random.randint(0,50))\n",
        "print(INTNUM)\n",
        "Select(INTNUM)\n",
        "\n",
        "\n",
        "\n",
        "  "
      ],
      "execution_count": 16,
      "outputs": [
        {
          "output_type": "stream",
          "text": [
            "[2, 19, 28, 16, 26, 39, 19, 5]\n",
            "第1次排序 [39, 2, 19, 16, 26, 28, 19, 5]\n",
            "第2次排序 [39, 28, 2, 16, 19, 26, 19, 5]\n",
            "第3次排序 [39, 28, 26, 2, 16, 19, 19, 5]\n",
            "第4次排序 [39, 28, 26, 19, 2, 16, 19, 5]\n",
            "第5次排序 [39, 28, 26, 19, 19, 2, 16, 5]\n",
            "第6次排序 [39, 28, 26, 19, 19, 16, 2, 5]\n",
            "第7次排序 [39, 28, 26, 19, 19, 16, 5, 2]\n",
            "第8次排序 [39, 28, 26, 19, 19, 16, 5, 2]\n"
          ],
          "name": "stdout"
        }
      ]
    },
    {
      "cell_type": "code",
      "metadata": {
        "id": "d7aXLjhwJebK"
      },
      "source": [
        ""
      ],
      "execution_count": null,
      "outputs": []
    }
  ]
}