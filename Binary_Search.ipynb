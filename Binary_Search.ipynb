{
  "nbformat": 4,
  "nbformat_minor": 0,
  "metadata": {
    "colab": {
      "name": "Untitled3.ipynb",
      "provenance": [],
      "authorship_tag": "ABX9TyP68NVDPQBU/9CO2jsGhWdA",
      "include_colab_link": true
    },
    "kernelspec": {
      "name": "python3",
      "display_name": "Python 3"
    }
  },
  "cells": [
    {
      "cell_type": "markdown",
      "metadata": {
        "id": "view-in-github",
        "colab_type": "text"
      },
      "source": [
        "<a href=\"https://colab.research.google.com/github/Lizhengl/algorizhm/blob/master/Binary_Search.ipynb\" target=\"_parent\"><img src=\"https://colab.research.google.com/assets/colab-badge.svg\" alt=\"Open In Colab\"/></a>"
      ]
    },
    {
      "cell_type": "code",
      "metadata": {
        "id": "UpAmNVh-8bt1",
        "outputId": "763c1d8f-5e8f-4ad9-d1c7-17c654a87c8e",
        "colab": {
          "base_uri": "https://localhost:8080/",
          "height": 34
        }
      },
      "source": [
        "def binarySearch(arr,l,r,x):\n",
        "  if r>=l:\n",
        "    mid = l + (r-1)//2\n",
        "    if arr[mid] == x:\n",
        "      return mid\n",
        "    elif arr[mid] > x:\n",
        "      return binarySearch(arr,l,mid-1,x)\n",
        "    else:\n",
        "      return binarySearch(arr,mid+1,r,x)\n",
        "  else:\n",
        "    return -1\n",
        "arr = [5,8,9,15,30]\n",
        "x = 9\n",
        "result = binarySearch(arr,0,len(arr)-1,x)\n",
        "\n",
        "if result != -1:\n",
        "  print(\"元素在索引%d\" %result)\n",
        "else:\n",
        "  print(\"陣列中找不到該元素\")"
      ],
      "execution_count": 1,
      "outputs": [
        {
          "output_type": "stream",
          "text": [
            "元素在索引2\n"
          ],
          "name": "stdout"
        }
      ]
    },
    {
      "cell_type": "code",
      "metadata": {
        "id": "2M6pJVY4_ls1",
        "outputId": "55c9a79b-01bb-4c1d-9387-2c6544e25773",
        "colab": {
          "base_uri": "https://localhost:8080/",
          "height": 102
        }
      },
      "source": [
        "def binarySearch(arr,l,r,x):\n",
        "  if r>=l:\n",
        "    mid = l + (r-1)//2\n",
        "    if arr[mid] == x:\n",
        "      return mid\n",
        "    elif arr[mid] > x:\n",
        "      return binarySearch(arr,l,mid-1,x)\n",
        "    else:\n",
        "      return binarySearch(arr,mid+1,r,x)\n",
        "  else:\n",
        "    return -1\n",
        "\n",
        "def Bubble_Sort(datas):\n",
        "    for i in range(1, len(datas)): # \n",
        "        for j in range(len(datas)-i):   # \n",
        "            if datas[j] > datas[j+1]:   # \n",
        "                datas[j], datas[j+1] = datas[j+1], datas[j]\n",
        "    return datas\n",
        "\n",
        "arr = list(map(int,input(\"輸入五個數字:\").split()))\n",
        "print(arr)\n",
        "arr = Bubble_Sort(arr)\n",
        "print(arr)\n",
        "\n",
        "x = int(input(\"請輸入要搜尋的數字:\"))\n",
        "result = binarySearch(arr,0,len(arr)-1,x)\n",
        "if result != -1:\n",
        "  print(\"元素在索引%d\" %result)\n",
        "else:\n",
        "  print(\"陣列中找不到該元素\")"
      ],
      "execution_count": 12,
      "outputs": [
        {
          "output_type": "stream",
          "text": [
            "輸入五個數字:1 55 48 65 22\n",
            "[1, 55, 48, 65, 22]\n",
            "[1, 22, 48, 55, 65]\n",
            "請輸入要搜尋的數字:2\n",
            "陣列中找不到該元素\n"
          ],
          "name": "stdout"
        }
      ]
    }
  ]
}