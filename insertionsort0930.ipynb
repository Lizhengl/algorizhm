{
  "nbformat": 4,
  "nbformat_minor": 0,
  "metadata": {
    "colab": {
      "name": "insertionsort0930.ipynb",
      "provenance": [],
      "collapsed_sections": [],
      "include_colab_link": true
    },
    "kernelspec": {
      "name": "python3",
      "display_name": "Python 3"
    }
  },
  "cells": [
    {
      "cell_type": "markdown",
      "metadata": {
        "id": "view-in-github",
        "colab_type": "text"
      },
      "source": [
        "<a href=\"https://colab.research.google.com/github/Lizhengl/algorizhm/blob/master/insertionsort0930.ipynb\" target=\"_parent\"><img src=\"https://colab.research.google.com/assets/colab-badge.svg\" alt=\"Open In Colab\"/></a>"
      ]
    },
    {
      "cell_type": "markdown",
      "metadata": {
        "id": "j95w6SLwOC0z"
      },
      "source": [
        "Insertion sort (插入排序)"
      ]
    },
    {
      "cell_type": "code",
      "metadata": {
        "id": "BxBaYEwzNj_v",
        "outputId": "6c08d16e-ac9f-4854-d97c-1ce871e6d55a",
        "colab": {
          "base_uri": "https://localhost:8080/",
          "height": 289
        }
      },
      "source": [
        "\n",
        "def Insertion_Sort(datas):   \n",
        "    for i in range(1, len(datas)):  # n \n",
        "        for j in range(i): # n^2\n",
        "            current = datas[i] # n^2\n",
        "            if current < datas[j]: # n^2\n",
        "                for k in range(i,j): # n*(n^2)\n",
        "                  print(datas)  # Big O 最高次項  O(n^3)\n",
        "    return datas\n",
        "\n",
        "\n",
        "def insertionSort(arr):\n",
        "    for i in range(len(arr)):\n",
        "        preIndex = i-1\n",
        "        current = arr[i]\n",
        "        while preIndex >= 0 and arr[preIndex] > current:\n",
        "            arr[preIndex+1] = arr[preIndex]\n",
        "            preIndex-=1\n",
        "        arr[preIndex+1] = current\n",
        "        print(arr)\n",
        "    return arr\n",
        "\n",
        "if __name__ == '__main__':\n",
        "    import random\n",
        "    a = list(range(15))\n",
        "    random.shuffle(a)\n",
        "    b = a.copy()\n",
        "\n",
        "    arr = insertionSort(a)\n",
        "    print('---'*10)\n",
        "    Insertion_Sort(b)"
      ],
      "execution_count": null,
      "outputs": [
        {
          "output_type": "stream",
          "text": [
            "[9, 12, 14, 8, 1, 10, 6, 2, 4, 11, 0, 13, 3, 5, 7]\n",
            "[9, 12, 14, 8, 1, 10, 6, 2, 4, 11, 0, 13, 3, 5, 7]\n",
            "[9, 12, 14, 8, 1, 10, 6, 2, 4, 11, 0, 13, 3, 5, 7]\n",
            "[8, 9, 12, 14, 1, 10, 6, 2, 4, 11, 0, 13, 3, 5, 7]\n",
            "[1, 8, 9, 12, 14, 10, 6, 2, 4, 11, 0, 13, 3, 5, 7]\n",
            "[1, 8, 9, 10, 12, 14, 6, 2, 4, 11, 0, 13, 3, 5, 7]\n",
            "[1, 6, 8, 9, 10, 12, 14, 2, 4, 11, 0, 13, 3, 5, 7]\n",
            "[1, 2, 6, 8, 9, 10, 12, 14, 4, 11, 0, 13, 3, 5, 7]\n",
            "[1, 2, 4, 6, 8, 9, 10, 12, 14, 11, 0, 13, 3, 5, 7]\n",
            "[1, 2, 4, 6, 8, 9, 10, 11, 12, 14, 0, 13, 3, 5, 7]\n",
            "[0, 1, 2, 4, 6, 8, 9, 10, 11, 12, 14, 13, 3, 5, 7]\n",
            "[0, 1, 2, 4, 6, 8, 9, 10, 11, 12, 13, 14, 3, 5, 7]\n",
            "[0, 1, 2, 3, 4, 6, 8, 9, 10, 11, 12, 13, 14, 5, 7]\n",
            "[0, 1, 2, 3, 4, 5, 6, 8, 9, 10, 11, 12, 13, 14, 7]\n",
            "[0, 1, 2, 3, 4, 5, 6, 7, 8, 9, 10, 11, 12, 13, 14]\n",
            "------------------------------\n"
          ],
          "name": "stdout"
        }
      ]
    }
  ]
}